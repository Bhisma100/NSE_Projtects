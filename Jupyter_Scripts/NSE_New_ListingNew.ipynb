{
 "cells": [
  {
   "cell_type": "code",
   "execution_count": 43,
   "metadata": {},
   "outputs": [],
   "source": [
    "from selenium import webdriver\n",
    "from selenium.webdriver.common.by import By\n",
    "from selenium.webdriver.support.ui import WebDriverWait\n",
    "from selenium.webdriver.support import expected_conditions as EC\n",
    "from bs4 import BeautifulSoup as bs\n",
    "import datetime\n",
    "import gspread\n",
    "import time\n",
    "import pandas as pd\n"
   ]
  },
  {
   "cell_type": "code",
   "execution_count": 44,
   "metadata": {},
   "outputs": [],
   "source": [
    "driver = webdriver.Chrome()\n",
    "url = 'https://www.nseindia.com/market-data/new-stock-exchange-listings-recent'\n",
    "driver.get(url)\n",
    "time.sleep(10)\n",
    "r = driver.page_source\n",
    "driver.close()"
   ]
  },
  {
   "cell_type": "code",
   "execution_count": 45,
   "metadata": {},
   "outputs": [
    {
     "name": "stdout",
     "output_type": "stream",
     "text": [
      "[['Equity', 'HDFCPSUBK', 'HDFC Mutual Fund -HDFC NIFTY PSU BANK ETF', 'EQ', 'INF179KC1HW4', '07-Feb-2024'], ['Equity', 'SMFG', 'SMFG India Credit Company Limited', 'N2', 'INE535H07CE7', '07-Feb-2024'], ['Equity', 'HEALTHADD', 'DSP Mutual Fund - DSP Nifty Healthcare ETF', 'EQ', 'INF740KA1UF4', '06-Feb-2024'], ['SME', 'BAWEJA', 'Baweja Studios Limited', 'ST', 'INE0JFJ01011', '06-Feb-2024'], ['Equity', 'HEFC', 'Hero FinCorp Limited', 'N1', 'INE957N07773', '06-Feb-2024'], ['Equity', 'BLSE', 'BLS E-Services Limited', 'EQ', 'INE0NLT01010', '05-Feb-2024'], ['SME', 'MEGATHERM', 'Megatherm Induction Limited', 'ST', 'INE531R01010', '02-Feb-2024'], ['Equity', 'CHOLAFIN', 'Cholamandalam Investment and Finance Company Limited', 'NJ', 'INE121A07RQ3', '02-Feb-2024'], ['Equity', 'NIF5GETF', 'UTI Mutual Fund - UTI Nifty 5 yr Benchmark G-Sec ETF', 'EQ', 'INF789F1AZE6', '02-Feb-2024'], ['Equity', 'NIF10GETF', 'UTI Mutual Fund - UTI Nifty 10 yr Benchmark G-Sec ETF', 'EQ', 'INF789F1AZF3', '02-Feb-2024'], ['Equity', 'MUTHOOTFIN', 'Muthoot Finance Limited', 'NJ', 'INE414G07JA0', '02-Feb-2024'], ['SME', 'FONEBOX', 'Fonebox Retail Limited', 'ST', 'INE0Q4701019', '02-Feb-2024'], ['SME', 'DHTL', 'Docmode Health Technologies Limited', 'ST', 'INE0OGG01015', '02-Feb-2024'], ['SME', 'DELAPLEX', 'Delaplex Limited', 'ST', 'INE0SK801018', '02-Feb-2024'], ['Equity', 'CHOLAFIN', 'Cholamandalam Investment and Finance Company Limited', 'NO', 'INE121A07RU5', '02-Feb-2024'], ['Equity', 'CHOLAFIN', 'Cholamandalam Investment and Finance Company Limited', 'NN', 'INE121A07RV3', '02-Feb-2024'], ['Equity', 'CHOLAFIN', 'Cholamandalam Investment and Finance Company Limited', 'NM', 'INE121A07RS9', '02-Feb-2024'], ['Equity', 'CHOLAFIN', 'Cholamandalam Investment and Finance Company Limited', 'NL', 'INE121A07RT7', '02-Feb-2024'], ['Equity', 'CHOLAFIN', 'Cholamandalam Investment and Finance Company Limited', 'NK', 'INE121A07RR1', '01-Feb-2024'], ['Equity', 'NIFITETF', 'UTI Mutual Fund - UTI Nifty IT ETF', 'EQ', 'INF789F1AZD8', '01-Feb-2024'], ['Equity', 'SMFG', 'SMFG India Credit Company Limited', 'N1', 'INE535H07CC1', '31-Jan-2024'], ['Equity', 'L&TFIN', 'L&T Finance Holdings Limited', 'NP', 'INE498L07020', '31-Jan-2024'], ['Equity', 'NOVAAGRI', 'Nova Agritech Limited', 'BE', 'INE02H701025', '30-Jan-2024'], ['Equity', 'EPACK', 'EPACK Durable Limited', 'EQ', 'INE0G5901015', '30-Jan-2024'], ['Equity', 'NIIF', 'NIIF Infrastructure Finance Limited', 'N1', 'INE246R07715', '30-Jan-2024'], ['SME', 'LAWSIKHO', 'Addictive Learning Technology Limited', 'ST', 'INE0RDH01021', '30-Jan-2024'], ['SME', 'KONSTELEC', 'Konstelec Engineers Limited', 'ST', 'INE0QEI01011', '29-Jan-2024'], ['Equity', 'BANKBETF', 'Bajaj Finserv Mutual Fund - Bajaj Finserv Nifty Bank ETF', 'EQ', 'INF0QA701714', '29-Jan-2024'], ['Equity', 'TPL', 'TATA PROJECTS LIMITED', 'N5', 'INE725H08188', '29-Jan-2024'], ['Equity', 'NIFTYBETF', 'Bajaj Finserv Mutual Fund - Bajaj Finserv Nifty 50 ETF', 'EQ', 'INF0QA701722', '25-Jan-2024'], ['Equity', 'DAVANGERE', 'Davangere Sugar Company Limited', 'EQ', 'INE179G01011', '24-Jan-2024'], ['Equity', 'LIQUIDCASE', 'Zerodha Fund House - Zerodha Nifty 1D Rate Liquid ETF', 'EQ', 'INF0R8F01034', '24-Jan-2024'], ['Equity', 'TFSI', 'Toyota Financial Services India Limited', 'N1', 'INE692Q07480', '24-Jan-2024'], ['Equity', 'SIDBI', 'Small Industries Development Bank of India', 'N1', 'INE556F08KN9', '23-Jan-2024'], ['Equity', 'CCSP', 'Clix Capital Services Private Limited', 'N1', 'INE157D07EG0', '23-Jan-2024'], ['SME', 'MAXPOSURE', 'Maxposure Limited', 'ST', 'INE0ECC01022', '23-Jan-2024'], ['Equity', 'TORNTPOWER', 'Torrent Power Limited', 'N3', 'INE813H07325', '23-Jan-2024'], ['Equity', 'TORNTPOWER', 'Torrent Power Limited', 'N2', 'INE813H07333', '23-Jan-2024'], ['Equity', 'TORNTPOWER', 'Torrent Power Limited', 'N1', 'INE813H07341', '23-Jan-2024'], ['Equity', 'MEDIASSIST', 'Medi Assist Healthcare Services Limited', 'EQ', 'INE456Z01021', '23-Jan-2024'], ['SME', 'MAXPOSURE', 'Maxposure Limited', 'SM', 'INE0ECC01022', '23-Jan-2024'], ['Equity', 'IRFC', 'Indian Railway Finance Corporation Limited', 'NP', 'INE053F08353', '23-Jan-2024'], ['Equity', 'COMSYN', 'Commercial Syn Bags Limited', 'EQ', 'INE073V01015', '18-Jan-2024'], ['SME', 'APS', 'Australian Premium Solar (India) Limited', 'ST', 'INE0P0001010', '18-Jan-2024'], ['Equity', 'RECLTD', 'REC Limited', 'NK', 'INE020B08EV1', '18-Jan-2024'], ['Equity', 'RECLTD', 'REC Limited', 'NJ', 'INE020B08EW9', '17-Jan-2024'], ['Equity', 'NHB', 'National Housing Bank', 'N8', 'INE557F08FT4', '17-Jan-2024'], ['Equity', 'TATSILV', 'Tata Mutual Fund Tata Silver Exchange Traded Fund', 'EQ', 'INF277KA1984', '17-Jan-2024'], ['Equity', 'TATAGOLD', 'Tata Mutual Fund Tata Gold Exchange Traded Fund', 'EQ', 'INF277KA1976', '16-Jan-2024'], ['Equity', 'ABSLFMUSDG', 'Aditya Birla Sun Life Mutual Fund - ABSL FMP- Sr US (100D) - DP-GO', 'MF', 'INF209KB13Z7']]\n"
     ]
    }
   ],
   "source": [
    "soup= bs(r,'html.parser') \n",
    "if any(table.get('id') == \"livenltRecentTable\" for table in soup.find_all('table')):\n",
    "    Final_Table = []\n",
    "    DataInTable = []\n",
    "    table = soup.find('div',{'class':'customTable-width tableWidth-1150 firstRow deque-table-sortable-group'})\n",
    "    #print(table)\n",
    "    for rows in table:\n",
    "        row = rows.find_all('td')\n",
    "    for data in row[1:]:\n",
    "        DataInTable.append(data.text)\n",
    "    for i in range(0,len(DataInTable),6):\n",
    "        New=DataInTable[i:i+6]\n",
    "        Final_Table.append(New)\n",
    "    print(Final_Table)\n",
    "else:\n",
    "    print(\"Something\")\n",
    "    "
   ]
  },
  {
   "cell_type": "code",
   "execution_count": 46,
   "metadata": {},
   "outputs": [
    {
     "name": "stdout",
     "output_type": "stream",
     "text": [
      "['Equity', 'HDFCPSUBK', 'HDFC Mutual Fund -HDFC NIFTY PSU BANK ETF', 'EQ', 'INF179KC1HW4', '07-Feb-2024', 'Equity', 'SMFG', 'SMFG India Credit Company Limited', 'N2', 'INE535H07CE7', '07-Feb-2024', 'Equity', 'HEALTHADD', 'DSP Mutual Fund - DSP Nifty Healthcare ETF', 'EQ', 'INF740KA1UF4', '06-Feb-2024', 'SME', 'BAWEJA', 'Baweja Studios Limited', 'ST', 'INE0JFJ01011', '06-Feb-2024', 'Equity', 'HEFC', 'Hero FinCorp Limited', 'N1', 'INE957N07773', '06-Feb-2024', 'Equity', 'BLSE', 'BLS E-Services Limited', 'EQ', 'INE0NLT01010', '05-Feb-2024', 'SME', 'MEGATHERM', 'Megatherm Induction Limited', 'ST', 'INE531R01010', '02-Feb-2024', 'Equity', 'CHOLAFIN', 'Cholamandalam Investment and Finance Company Limited', 'NJ', 'INE121A07RQ3', '02-Feb-2024', 'Equity', 'NIF5GETF', 'UTI Mutual Fund - UTI Nifty 5 yr Benchmark G-Sec ETF', 'EQ', 'INF789F1AZE6', '02-Feb-2024', 'Equity', 'NIF10GETF', 'UTI Mutual Fund - UTI Nifty 10 yr Benchmark G-Sec ETF', 'EQ', 'INF789F1AZF3', '02-Feb-2024', 'Equity', 'MUTHOOTFIN', 'Muthoot Finance Limited', 'NJ', 'INE414G07JA0', '02-Feb-2024', 'SME', 'FONEBOX', 'Fonebox Retail Limited', 'ST', 'INE0Q4701019', '02-Feb-2024', 'SME', 'DHTL', 'Docmode Health Technologies Limited', 'ST', 'INE0OGG01015', '02-Feb-2024', 'SME', 'DELAPLEX', 'Delaplex Limited', 'ST', 'INE0SK801018', '02-Feb-2024', 'Equity', 'CHOLAFIN', 'Cholamandalam Investment and Finance Company Limited', 'NO', 'INE121A07RU5', '02-Feb-2024', 'Equity', 'CHOLAFIN', 'Cholamandalam Investment and Finance Company Limited', 'NN', 'INE121A07RV3', '02-Feb-2024', 'Equity', 'CHOLAFIN', 'Cholamandalam Investment and Finance Company Limited', 'NM', 'INE121A07RS9', '02-Feb-2024', 'Equity', 'CHOLAFIN', 'Cholamandalam Investment and Finance Company Limited', 'NL', 'INE121A07RT7', '02-Feb-2024', 'Equity', 'CHOLAFIN', 'Cholamandalam Investment and Finance Company Limited', 'NK', 'INE121A07RR1', '01-Feb-2024', 'Equity', 'NIFITETF', 'UTI Mutual Fund - UTI Nifty IT ETF', 'EQ', 'INF789F1AZD8', '01-Feb-2024', 'Equity', 'SMFG', 'SMFG India Credit Company Limited', 'N1', 'INE535H07CC1', '31-Jan-2024', 'Equity', 'L&TFIN', 'L&T Finance Holdings Limited', 'NP', 'INE498L07020', '31-Jan-2024', 'Equity', 'NOVAAGRI', 'Nova Agritech Limited', 'BE', 'INE02H701025', '30-Jan-2024', 'Equity', 'EPACK', 'EPACK Durable Limited', 'EQ', 'INE0G5901015', '30-Jan-2024', 'Equity', 'NIIF', 'NIIF Infrastructure Finance Limited', 'N1', 'INE246R07715', '30-Jan-2024', 'SME', 'LAWSIKHO', 'Addictive Learning Technology Limited', 'ST', 'INE0RDH01021', '30-Jan-2024', 'SME', 'KONSTELEC', 'Konstelec Engineers Limited', 'ST', 'INE0QEI01011', '29-Jan-2024', 'Equity', 'BANKBETF', 'Bajaj Finserv Mutual Fund - Bajaj Finserv Nifty Bank ETF', 'EQ', 'INF0QA701714', '29-Jan-2024', 'Equity', 'TPL', 'TATA PROJECTS LIMITED', 'N5', 'INE725H08188', '29-Jan-2024', 'Equity', 'NIFTYBETF', 'Bajaj Finserv Mutual Fund - Bajaj Finserv Nifty 50 ETF', 'EQ', 'INF0QA701722', '25-Jan-2024', 'Equity', 'DAVANGERE', 'Davangere Sugar Company Limited', 'EQ', 'INE179G01011', '24-Jan-2024', 'Equity', 'LIQUIDCASE', 'Zerodha Fund House - Zerodha Nifty 1D Rate Liquid ETF', 'EQ', 'INF0R8F01034', '24-Jan-2024', 'Equity', 'TFSI', 'Toyota Financial Services India Limited', 'N1', 'INE692Q07480', '24-Jan-2024', 'Equity', 'SIDBI', 'Small Industries Development Bank of India', 'N1', 'INE556F08KN9', '23-Jan-2024', 'Equity', 'CCSP', 'Clix Capital Services Private Limited', 'N1', 'INE157D07EG0', '23-Jan-2024', 'SME', 'MAXPOSURE', 'Maxposure Limited', 'ST', 'INE0ECC01022', '23-Jan-2024', 'Equity', 'TORNTPOWER', 'Torrent Power Limited', 'N3', 'INE813H07325', '23-Jan-2024', 'Equity', 'TORNTPOWER', 'Torrent Power Limited', 'N2', 'INE813H07333', '23-Jan-2024', 'Equity', 'TORNTPOWER', 'Torrent Power Limited', 'N1', 'INE813H07341', '23-Jan-2024', 'Equity', 'MEDIASSIST', 'Medi Assist Healthcare Services Limited', 'EQ', 'INE456Z01021', '23-Jan-2024', 'SME', 'MAXPOSURE', 'Maxposure Limited', 'SM', 'INE0ECC01022', '23-Jan-2024', 'Equity', 'IRFC', 'Indian Railway Finance Corporation Limited', 'NP', 'INE053F08353', '23-Jan-2024', 'Equity', 'COMSYN', 'Commercial Syn Bags Limited', 'EQ', 'INE073V01015', '18-Jan-2024', 'SME', 'APS', 'Australian Premium Solar (India) Limited', 'ST', 'INE0P0001010', '18-Jan-2024', 'Equity', 'RECLTD', 'REC Limited', 'NK', 'INE020B08EV1', '18-Jan-2024', 'Equity', 'RECLTD', 'REC Limited', 'NJ', 'INE020B08EW9', '17-Jan-2024', 'Equity', 'NHB', 'National Housing Bank', 'N8', 'INE557F08FT4', '17-Jan-2024', 'Equity', 'TATSILV', 'Tata Mutual Fund Tata Silver Exchange Traded Fund', 'EQ', 'INF277KA1984', '17-Jan-2024', 'Equity', 'TATAGOLD', 'Tata Mutual Fund Tata Gold Exchange Traded Fund', 'EQ', 'INF277KA1976', '16-Jan-2024', 'Equity', 'ABSLFMUSDG', 'Aditya Birla Sun Life Mutual Fund - ABSL FMP- Sr US (100D) - DP-GO', 'MF', 'INF209KB13Z7']\n"
     ]
    }
   ],
   "source": [
    "print(DataInTable)"
   ]
  },
  {
   "cell_type": "code",
   "execution_count": 51,
   "metadata": {},
   "outputs": [
    {
     "data": {
      "text/html": [
       "<div>\n",
       "<style scoped>\n",
       "    .dataframe tbody tr th:only-of-type {\n",
       "        vertical-align: middle;\n",
       "    }\n",
       "\n",
       "    .dataframe tbody tr th {\n",
       "        vertical-align: top;\n",
       "    }\n",
       "\n",
       "    .dataframe thead th {\n",
       "        text-align: right;\n",
       "    }\n",
       "</style>\n",
       "<table border=\"1\" class=\"dataframe\">\n",
       "  <thead>\n",
       "    <tr style=\"text-align: right;\">\n",
       "      <th></th>\n",
       "      <th>Market Type</th>\n",
       "      <th>Symbol</th>\n",
       "      <th>Company Name</th>\n",
       "      <th>Series</th>\n",
       "      <th>ISIN</th>\n",
       "      <th>Date</th>\n",
       "    </tr>\n",
       "  </thead>\n",
       "  <tbody>\n",
       "    <tr>\n",
       "      <th>0</th>\n",
       "      <td>Equity</td>\n",
       "      <td>HDFCPSUBK</td>\n",
       "      <td>HDFC Mutual Fund -HDFC NIFTY PSU BANK ETF</td>\n",
       "      <td>EQ</td>\n",
       "      <td>INF179KC1HW4</td>\n",
       "      <td>07-Feb-2024</td>\n",
       "    </tr>\n",
       "    <tr>\n",
       "      <th>2</th>\n",
       "      <td>Equity</td>\n",
       "      <td>HEALTHADD</td>\n",
       "      <td>DSP Mutual Fund - DSP Nifty Healthcare ETF</td>\n",
       "      <td>EQ</td>\n",
       "      <td>INF740KA1UF4</td>\n",
       "      <td>06-Feb-2024</td>\n",
       "    </tr>\n",
       "    <tr>\n",
       "      <th>3</th>\n",
       "      <td>SME</td>\n",
       "      <td>BAWEJA</td>\n",
       "      <td>Baweja Studios Limited</td>\n",
       "      <td>ST</td>\n",
       "      <td>INE0JFJ01011</td>\n",
       "      <td>06-Feb-2024</td>\n",
       "    </tr>\n",
       "    <tr>\n",
       "      <th>5</th>\n",
       "      <td>Equity</td>\n",
       "      <td>BLSE</td>\n",
       "      <td>BLS E-Services Limited</td>\n",
       "      <td>EQ</td>\n",
       "      <td>INE0NLT01010</td>\n",
       "      <td>05-Feb-2024</td>\n",
       "    </tr>\n",
       "    <tr>\n",
       "      <th>6</th>\n",
       "      <td>SME</td>\n",
       "      <td>MEGATHERM</td>\n",
       "      <td>Megatherm Induction Limited</td>\n",
       "      <td>ST</td>\n",
       "      <td>INE531R01010</td>\n",
       "      <td>02-Feb-2024</td>\n",
       "    </tr>\n",
       "  </tbody>\n",
       "</table>\n",
       "</div>"
      ],
      "text/plain": [
       "  Market Type     Symbol                                Company Name Series  \\\n",
       "0      Equity  HDFCPSUBK   HDFC Mutual Fund -HDFC NIFTY PSU BANK ETF     EQ   \n",
       "2      Equity  HEALTHADD  DSP Mutual Fund - DSP Nifty Healthcare ETF     EQ   \n",
       "3         SME     BAWEJA                      Baweja Studios Limited     ST   \n",
       "5      Equity       BLSE                      BLS E-Services Limited     EQ   \n",
       "6         SME  MEGATHERM                 Megatherm Induction Limited     ST   \n",
       "\n",
       "           ISIN         Date  \n",
       "0  INF179KC1HW4  07-Feb-2024  \n",
       "2  INF740KA1UF4  06-Feb-2024  \n",
       "3  INE0JFJ01011  06-Feb-2024  \n",
       "5  INE0NLT01010  05-Feb-2024  \n",
       "6  INE531R01010  02-Feb-2024  "
      ]
     },
     "execution_count": 51,
     "metadata": {},
     "output_type": "execute_result"
    }
   ],
   "source": [
    "df = pd.DataFrame(Final_Table,columns=['Market Type','Symbol','Company Name','Series','ISIN','Date'])\n",
    "filtered_df = df[df['Series'].str.contains('EQ|ST|BE|MF|GB')]\n",
    "filtered_df.head()\n"
   ]
  },
  {
   "cell_type": "code",
   "execution_count": 48,
   "metadata": {},
   "outputs": [
    {
     "data": {
      "text/plain": [
       "{'spreadsheetId': '1Otk1m6VxGHQ5nKa5z9bNg5ebTEu7w5k6j4dsSLx5I3s',\n",
       " 'updatedRange': 'NSE_Listing!A2:L1000',\n",
       " 'updatedRows': 999,\n",
       " 'updatedColumns': 12,\n",
       " 'updatedCells': 11988}"
      ]
     },
     "execution_count": 48,
     "metadata": {},
     "output_type": "execute_result"
    }
   ],
   "source": [
    "gc = gspread.service_account(filename='creds.json')\n",
    "spreadsheet_name = 'Notifications and Listings'\n",
    "sheet_name = 'NSE_Listing'\n",
    "sh = gc.open(spreadsheet_name).worksheet(sheet_name)\n",
    "existing_data_range = sh.range('A2:L' + str(sh.row_count))\n",
    "for cell in existing_data_range:\n",
    "    cell.value = ''\n",
    "\n",
    "sh.update_cells(existing_data_range)"
   ]
  },
  {
   "cell_type": "code",
   "execution_count": 49,
   "metadata": {},
   "outputs": [
    {
     "data": {
      "text/plain": [
       "{'spreadsheetId': '1Otk1m6VxGHQ5nKa5z9bNg5ebTEu7w5k6j4dsSLx5I3s',\n",
       " 'tableRange': 'NSE_Listing!A1:F2',\n",
       " 'updates': {'spreadsheetId': '1Otk1m6VxGHQ5nKa5z9bNg5ebTEu7w5k6j4dsSLx5I3s',\n",
       "  'updatedRange': 'NSE_Listing!A3'}}"
      ]
     },
     "execution_count": 49,
     "metadata": {},
     "output_type": "execute_result"
    }
   ],
   "source": [
    "values_lists = []\n",
    "df_dict = filtered_df.to_dict(orient='records')\n",
    "for data in df_dict:\n",
    "    values_lists.append([str(data['Date']),str(data['Market Type']), str(data['Symbol']), str(data['Company Name']),str(data['Series']),str(data['ISIN'])])\n",
    "sh.append_row([f'Batch ran at: {datetime.datetime.now()}'])\n",
    "sh.append_rows(values_lists) "
   ]
  }
 ],
 "metadata": {
  "kernelspec": {
   "display_name": "Python 3",
   "language": "python",
   "name": "python3"
  },
  "language_info": {
   "codemirror_mode": {
    "name": "ipython",
    "version": 3
   },
   "file_extension": ".py",
   "mimetype": "text/x-python",
   "name": "python",
   "nbconvert_exporter": "python",
   "pygments_lexer": "ipython3",
   "version": "3.12.1"
  }
 },
 "nbformat": 4,
 "nbformat_minor": 2
}
